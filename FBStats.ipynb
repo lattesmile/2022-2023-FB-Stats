{
 "cells": [
  {
   "cell_type": "code",
   "execution_count": 56,
   "metadata": {
    "collapsed": true,
    "ExecuteTime": {
     "end_time": "2023-07-02T15:02:29.128804200Z",
     "start_time": "2023-07-02T15:02:29.105686300Z"
    }
   },
   "outputs": [],
   "source": [
    "import requests\n",
    "from bs4 import BeautifulSoup"
   ]
  },
  {
   "cell_type": "code",
   "execution_count": 57,
   "outputs": [],
   "source": [
    "URL = \"https://www.versussportssimulator.com/NFL/rankings\"\n",
    "page =  requests.get(URL)\n",
    "\n",
    "soup = BeautifulSoup(page.content, \"html.parser\")\n"
   ],
   "metadata": {
    "collapsed": false,
    "ExecuteTime": {
     "end_time": "2023-07-02T15:02:30.936276500Z",
     "start_time": "2023-07-02T15:02:30.572505600Z"
    }
   }
  },
  {
   "cell_type": "code",
   "execution_count": 62,
   "outputs": [],
   "source": [
    "team = soup.find_all(\"span\", {\"class\": \"team\"})\n",
    "record = soup.find_all(\"span\", {\"class\": \"visible-mobile record\"})"
   ],
   "metadata": {
    "collapsed": false,
    "ExecuteTime": {
     "end_time": "2023-07-02T15:03:24.035121300Z",
     "start_time": "2023-07-02T15:03:24.031624300Z"
    }
   }
  },
  {
   "cell_type": "code",
   "execution_count": 80,
   "outputs": [
    {
     "name": "stdout",
     "output_type": "stream",
     "text": [
      "       2022-2023 NFL Rankings\n",
      "------------------------------------\n",
      " Rank         Team          Record  \n",
      "  1       Kansas City        17-3   \n",
      "  2       Philadelphia       16-4   \n",
      "  3        Cincinnati        14-5   \n",
      "  4         Buffalo          14-4   \n",
      "  5      San Francisco       15-5   \n",
      "  6        Minnesota         13-5   \n",
      "  7          Dallas          13-6   \n",
      "  8        NY Giants         10-8   \n",
      "  9         Detroit           9-8   \n",
      "  10       Baltimore         10-8   \n",
      "  11       Pittsburgh         9-8   \n",
      "  12         Miami            9-9   \n",
      "  13       Washington         8-8   \n",
      "  14      Jacksonville       10-9   \n",
      "  15       Green Bay          8-9   \n",
      "  16      New England         8-9   \n",
      "  17      LA Chargers        10-8   \n",
      "  18        Seattle           9-9   \n",
      "  19       Cleveland         7-10   \n",
      "  20       Tampa Bay         8-10   \n",
      "  21        NY Jets          7-10   \n",
      "  22      New Orleans        7-10   \n",
      "  23        Carolina         7-10   \n",
      "  24       Tennessee         7-10   \n",
      "  25        Atlanta          7-10   \n",
      "  26       Las Vegas         6-11   \n",
      "  27        LA Rams          5-12   \n",
      "  28         Denver          5-12   \n",
      "  29      Indianapolis       4-12   \n",
      "  30        Chicago          3-14   \n",
      "  31        Arizona          4-13   \n",
      "  32        Houston          3-13   \n"
     ]
    }
   ],
   "source": [
    "# Header text\n",
    "header_text = \"2022-2023 NFL Rankings\"\n",
    "\n",
    "# Column labels\n",
    "rank_label = \"Rank\"\n",
    "team_label = \"Team\"\n",
    "record_label = \"Record\"\n",
    "\n",
    "# Column widths\n",
    "rank_width = 6\n",
    "team_width = 20\n",
    "record_width = 10\n",
    "\n",
    "# calculates the width of the overall table\n",
    "table_width = rank_width + team_width + record_width\n",
    "\n",
    "# calculates left padding for header\n",
    "header_padding = (table_width - len(header_text)) // 2\n",
    "\n",
    "# Print header\n",
    "print(f\"{' ' * header_padding}{header_text}\")\n",
    "print('-' * table_width)\n",
    "print(f\"{rank_label.center(rank_width)}{team_label.center(team_width)}{record_label.center(record_width)}\")\n",
    "\n",
    "for i, (t, r) in enumerate(zip(team, record), start=1):\n",
    "    team_name = t.get_text().strip()\n",
    "    team_name = team_name.replace(\"\\xa0\", \"\")\n",
    "    print(f\"{str(i).center(rank_width)}{team_name.center(team_width)}{r.get_text().center(record_width)}\")"
   ],
   "metadata": {
    "collapsed": false,
    "ExecuteTime": {
     "end_time": "2023-07-02T15:13:02.177518100Z",
     "start_time": "2023-07-02T15:13:02.158200500Z"
    }
   }
  },
  {
   "cell_type": "code",
   "execution_count": 52,
   "outputs": [],
   "source": [],
   "metadata": {
    "collapsed": false,
    "ExecuteTime": {
     "end_time": "2023-07-02T15:01:45.264027500Z",
     "start_time": "2023-07-02T15:01:45.250895800Z"
    }
   }
  },
  {
   "cell_type": "code",
   "execution_count": 23,
   "outputs": [],
   "source": [],
   "metadata": {
    "collapsed": false,
    "ExecuteTime": {
     "end_time": "2023-07-02T14:49:28.225833800Z",
     "start_time": "2023-07-02T14:49:28.221847100Z"
    }
   }
  },
  {
   "cell_type": "code",
   "execution_count": null,
   "outputs": [],
   "source": [],
   "metadata": {
    "collapsed": false
   }
  }
 ],
 "metadata": {
  "kernelspec": {
   "display_name": "Python 3",
   "language": "python",
   "name": "python3"
  },
  "language_info": {
   "codemirror_mode": {
    "name": "ipython",
    "version": 2
   },
   "file_extension": ".py",
   "mimetype": "text/x-python",
   "name": "python",
   "nbconvert_exporter": "python",
   "pygments_lexer": "ipython2",
   "version": "2.7.6"
  }
 },
 "nbformat": 4,
 "nbformat_minor": 0
}
